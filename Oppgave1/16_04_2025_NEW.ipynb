{
  "cells": [
    {
      "cell_type": "markdown",
      "metadata": {
        "id": "view-in-github",
        "colab_type": "text"
      },
      "source": [
        "<a href=\"https://colab.research.google.com/github/StefanMalv/INFO284_SemesterOppgave_2025V/blob/main/Oppgave1/16_04_2025_NEW.ipynb\" target=\"_parent\"><img src=\"https://colab.research.google.com/assets/colab-badge.svg\" alt=\"Open In Colab\"/></a>"
      ]
    },
    {
      "cell_type": "code",
      "execution_count": 1,
      "metadata": {
        "colab": {
          "base_uri": "https://localhost:8080/",
          "height": 73
        },
        "id": "MT8nbjUaZF-A",
        "outputId": "4af7616e-6c6c-4e1d-dc45-1ec8964e8f1f"
      },
      "outputs": [
        {
          "output_type": "display_data",
          "data": {
            "text/plain": [
              "<IPython.core.display.HTML object>"
            ],
            "text/html": [
              "\n",
              "     <input type=\"file\" id=\"files-56ab98d1-a300-4545-9d73-5a024534d4cf\" name=\"files[]\" multiple disabled\n",
              "        style=\"border:none\" />\n",
              "     <output id=\"result-56ab98d1-a300-4545-9d73-5a024534d4cf\">\n",
              "      Upload widget is only available when the cell has been executed in the\n",
              "      current browser session. Please rerun this cell to enable.\n",
              "      </output>\n",
              "      <script>// Copyright 2017 Google LLC\n",
              "//\n",
              "// Licensed under the Apache License, Version 2.0 (the \"License\");\n",
              "// you may not use this file except in compliance with the License.\n",
              "// You may obtain a copy of the License at\n",
              "//\n",
              "//      http://www.apache.org/licenses/LICENSE-2.0\n",
              "//\n",
              "// Unless required by applicable law or agreed to in writing, software\n",
              "// distributed under the License is distributed on an \"AS IS\" BASIS,\n",
              "// WITHOUT WARRANTIES OR CONDITIONS OF ANY KIND, either express or implied.\n",
              "// See the License for the specific language governing permissions and\n",
              "// limitations under the License.\n",
              "\n",
              "/**\n",
              " * @fileoverview Helpers for google.colab Python module.\n",
              " */\n",
              "(function(scope) {\n",
              "function span(text, styleAttributes = {}) {\n",
              "  const element = document.createElement('span');\n",
              "  element.textContent = text;\n",
              "  for (const key of Object.keys(styleAttributes)) {\n",
              "    element.style[key] = styleAttributes[key];\n",
              "  }\n",
              "  return element;\n",
              "}\n",
              "\n",
              "// Max number of bytes which will be uploaded at a time.\n",
              "const MAX_PAYLOAD_SIZE = 100 * 1024;\n",
              "\n",
              "function _uploadFiles(inputId, outputId) {\n",
              "  const steps = uploadFilesStep(inputId, outputId);\n",
              "  const outputElement = document.getElementById(outputId);\n",
              "  // Cache steps on the outputElement to make it available for the next call\n",
              "  // to uploadFilesContinue from Python.\n",
              "  outputElement.steps = steps;\n",
              "\n",
              "  return _uploadFilesContinue(outputId);\n",
              "}\n",
              "\n",
              "// This is roughly an async generator (not supported in the browser yet),\n",
              "// where there are multiple asynchronous steps and the Python side is going\n",
              "// to poll for completion of each step.\n",
              "// This uses a Promise to block the python side on completion of each step,\n",
              "// then passes the result of the previous step as the input to the next step.\n",
              "function _uploadFilesContinue(outputId) {\n",
              "  const outputElement = document.getElementById(outputId);\n",
              "  const steps = outputElement.steps;\n",
              "\n",
              "  const next = steps.next(outputElement.lastPromiseValue);\n",
              "  return Promise.resolve(next.value.promise).then((value) => {\n",
              "    // Cache the last promise value to make it available to the next\n",
              "    // step of the generator.\n",
              "    outputElement.lastPromiseValue = value;\n",
              "    return next.value.response;\n",
              "  });\n",
              "}\n",
              "\n",
              "/**\n",
              " * Generator function which is called between each async step of the upload\n",
              " * process.\n",
              " * @param {string} inputId Element ID of the input file picker element.\n",
              " * @param {string} outputId Element ID of the output display.\n",
              " * @return {!Iterable<!Object>} Iterable of next steps.\n",
              " */\n",
              "function* uploadFilesStep(inputId, outputId) {\n",
              "  const inputElement = document.getElementById(inputId);\n",
              "  inputElement.disabled = false;\n",
              "\n",
              "  const outputElement = document.getElementById(outputId);\n",
              "  outputElement.innerHTML = '';\n",
              "\n",
              "  const pickedPromise = new Promise((resolve) => {\n",
              "    inputElement.addEventListener('change', (e) => {\n",
              "      resolve(e.target.files);\n",
              "    });\n",
              "  });\n",
              "\n",
              "  const cancel = document.createElement('button');\n",
              "  inputElement.parentElement.appendChild(cancel);\n",
              "  cancel.textContent = 'Cancel upload';\n",
              "  const cancelPromise = new Promise((resolve) => {\n",
              "    cancel.onclick = () => {\n",
              "      resolve(null);\n",
              "    };\n",
              "  });\n",
              "\n",
              "  // Wait for the user to pick the files.\n",
              "  const files = yield {\n",
              "    promise: Promise.race([pickedPromise, cancelPromise]),\n",
              "    response: {\n",
              "      action: 'starting',\n",
              "    }\n",
              "  };\n",
              "\n",
              "  cancel.remove();\n",
              "\n",
              "  // Disable the input element since further picks are not allowed.\n",
              "  inputElement.disabled = true;\n",
              "\n",
              "  if (!files) {\n",
              "    return {\n",
              "      response: {\n",
              "        action: 'complete',\n",
              "      }\n",
              "    };\n",
              "  }\n",
              "\n",
              "  for (const file of files) {\n",
              "    const li = document.createElement('li');\n",
              "    li.append(span(file.name, {fontWeight: 'bold'}));\n",
              "    li.append(span(\n",
              "        `(${file.type || 'n/a'}) - ${file.size} bytes, ` +\n",
              "        `last modified: ${\n",
              "            file.lastModifiedDate ? file.lastModifiedDate.toLocaleDateString() :\n",
              "                                    'n/a'} - `));\n",
              "    const percent = span('0% done');\n",
              "    li.appendChild(percent);\n",
              "\n",
              "    outputElement.appendChild(li);\n",
              "\n",
              "    const fileDataPromise = new Promise((resolve) => {\n",
              "      const reader = new FileReader();\n",
              "      reader.onload = (e) => {\n",
              "        resolve(e.target.result);\n",
              "      };\n",
              "      reader.readAsArrayBuffer(file);\n",
              "    });\n",
              "    // Wait for the data to be ready.\n",
              "    let fileData = yield {\n",
              "      promise: fileDataPromise,\n",
              "      response: {\n",
              "        action: 'continue',\n",
              "      }\n",
              "    };\n",
              "\n",
              "    // Use a chunked sending to avoid message size limits. See b/62115660.\n",
              "    let position = 0;\n",
              "    do {\n",
              "      const length = Math.min(fileData.byteLength - position, MAX_PAYLOAD_SIZE);\n",
              "      const chunk = new Uint8Array(fileData, position, length);\n",
              "      position += length;\n",
              "\n",
              "      const base64 = btoa(String.fromCharCode.apply(null, chunk));\n",
              "      yield {\n",
              "        response: {\n",
              "          action: 'append',\n",
              "          file: file.name,\n",
              "          data: base64,\n",
              "        },\n",
              "      };\n",
              "\n",
              "      let percentDone = fileData.byteLength === 0 ?\n",
              "          100 :\n",
              "          Math.round((position / fileData.byteLength) * 100);\n",
              "      percent.textContent = `${percentDone}% done`;\n",
              "\n",
              "    } while (position < fileData.byteLength);\n",
              "  }\n",
              "\n",
              "  // All done.\n",
              "  yield {\n",
              "    response: {\n",
              "      action: 'complete',\n",
              "    }\n",
              "  };\n",
              "}\n",
              "\n",
              "scope.google = scope.google || {};\n",
              "scope.google.colab = scope.google.colab || {};\n",
              "scope.google.colab._files = {\n",
              "  _uploadFiles,\n",
              "  _uploadFilesContinue,\n",
              "};\n",
              "})(self);\n",
              "</script> "
            ]
          },
          "metadata": {}
        },
        {
          "output_type": "stream",
          "name": "stdout",
          "text": [
            "Saving Hotel_Reviews.csv to Hotel_Reviews.csv\n"
          ]
        }
      ],
      "source": [
        "from google.colab import files\n",
        "\n",
        "uploaded = files.upload()  # Manually upload \"Hotel_Reviews.csv\""
      ]
    },
    {
      "cell_type": "markdown",
      "source": [
        "We begin by uploading the 'hotel_reviews.csv' file manually via Google Colab. This step is required for access to the review dataset.\n"
      ],
      "metadata": {
        "id": "yqJJmKRIiUV0"
      }
    },
    {
      "cell_type": "code",
      "execution_count": 2,
      "metadata": {
        "colab": {
          "base_uri": "https://localhost:8080/"
        },
        "id": "tmTezlGrIkM0",
        "outputId": "9cbc6cff-5fd1-410e-9bbf-9a41e79a4fdc"
      },
      "outputs": [
        {
          "output_type": "stream",
          "name": "stdout",
          "text": [
            "Requirement already satisfied: nltk in /usr/local/lib/python3.11/dist-packages (3.9.1)\n",
            "Requirement already satisfied: click in /usr/local/lib/python3.11/dist-packages (from nltk) (8.1.8)\n",
            "Requirement already satisfied: joblib in /usr/local/lib/python3.11/dist-packages (from nltk) (1.4.2)\n",
            "Requirement already satisfied: regex>=2021.8.3 in /usr/local/lib/python3.11/dist-packages (from nltk) (2024.11.6)\n",
            "Requirement already satisfied: tqdm in /usr/local/lib/python3.11/dist-packages (from nltk) (4.67.1)\n"
          ]
        }
      ],
      "source": [
        "!pip install nltk"
      ]
    },
    {
      "cell_type": "markdown",
      "source": [
        "\n",
        "This combination of importing libraries supports all steps: preprocessing, vectorization, model training, and evaluation.\n",
        "(spørsmål: er det best å forklare hvorfor vi har valgt å import med kmt i koden sånn som over. eller burde jeg skrive det her som en markdown)"
      ],
      "metadata": {
        "id": "8CBI6TN4itbm"
      }
    },
    {
      "cell_type": "code",
      "execution_count": 3,
      "metadata": {
        "id": "eySIoSdyE_zQ"
      },
      "outputs": [],
      "source": [
        "### Importing Libraries\n",
        "\n",
        "import pandas as pd\n",
        "import re\n",
        "import nltk\n",
        "from nltk.corpus import stopwords\n",
        "from nltk.tokenize import word_tokenize\n",
        "from nltk.stem import WordNetLemmatizer\n",
        "from sklearn.feature_extraction.text import TfidfVectorizer\n",
        "from sklearn.model_selection import train_test_split\n",
        "from sklearn.linear_model import LogisticRegression\n",
        "from sklearn.metrics import accuracy_score, f1_score, precision_score, recall_score, confusion_matrix, classification_report\n",
        "\n",
        "import tensorflow as tf\n",
        "from tensorflow.keras.preprocessing.text import Tokenizer\n",
        "from tensorflow.keras.preprocessing.sequence import pad_sequences\n",
        "from tensorflow.keras.models import Sequential\n",
        "from tensorflow.keras.layers import Embedding, LSTM, Dense, Dropout\n",
        "from sklearn.naive_bayes import MultinomialNB\n",
        "from sklearn.tree import DecisionTreeClassifier\n",
        "import matplotlib.pyplot as plt"
      ]
    },
    {
      "cell_type": "code",
      "execution_count": 4,
      "metadata": {
        "colab": {
          "base_uri": "https://localhost:8080/"
        },
        "id": "BPYQTS28ISnI",
        "outputId": "971f6732-81a4-4838-c522-458c78cb83a1"
      },
      "outputs": [
        {
          "output_type": "execute_result",
          "data": {
            "text/plain": [
              "True"
            ]
          },
          "metadata": {},
          "execution_count": 4
        }
      ],
      "source": [
        "nltk.download('stopwords', quiet=True)\n",
        "nltk.download('punkt', quiet=True)\n",
        "nltk.download('wordnet', quiet=True)\n",
        "nltk.download('punkt_tab', quiet=True)"
      ]
    },
    {
      "cell_type": "markdown",
      "source": [
        "We download essential linguistic resources. These are required for effective text normalization later on.\n"
      ],
      "metadata": {
        "id": "ks5Kvbsqi3kS"
      }
    },
    {
      "cell_type": "code",
      "source": [
        "#Load the dataframe before using it\n",
        "df = pd.read_csv(\"Hotel_Reviews.csv\")\n",
        "\n",
        "plt.figure(figsize=(10, 6))\n",
        "df[\"Reviewer_Score\"].hist(bins=30, edgecolor=\"black\")\n",
        "plt.title(\"Distribution of Reviewer Scores (Before Preprocessing)\")\n",
        "plt.xlabel(\"Reviewer Score\")\n",
        "plt.ylabel(\"Frequency\")\n",
        "plt.grid(True)\n",
        "plt.tight_layout()\n",
        "plt.show()"
      ],
      "metadata": {
        "colab": {
          "base_uri": "https://localhost:8080/",
          "height": 607
        },
        "id": "rlu3lVPqGNDb",
        "outputId": "a07cd17f-8729-4595-b966-2bf9f3507c17"
      },
      "execution_count": 5,
      "outputs": [
        {
          "output_type": "display_data",
          "data": {
            "text/plain": [
              "<Figure size 1000x600 with 1 Axes>"
            ],
            "image/png": "[encoded data removed]"
          },
          "metadata": {}
        }
      ]
    },
    {
      "cell_type": "markdown",
      "source": [
        "We visualize the distribution of the 'Reviewer_Score'. This step helps us understand how user scores are distributed before any transformations, and we get insight to choose meaningful variables later on. f.eks most scores are above 8, witch is important insight to difine \"bad rewies\"\n",
        "\n"
      ],
      "metadata": {
        "id": "u-sH0InDi-Ce"
      }
    },
    {
      "cell_type": "code",
      "source": [
        "#Load and combine reviews\n",
        "df = pd.read_csv(\"Hotel_Reviews.csv\")\n",
        "df[\"Positive_Review\"] = df[\"Positive_Review\"].astype(str)\n",
        "df[\"Negative_Review\"] = df[\"Negative_Review\"].astype(str)\n",
        "df[\"reviews\"] = df[\"Positive_Review\"] + \" \" + df[\"Negative_Review\"]"
      ],
      "metadata": {
        "id": "4kE8VnsZ0-j_"
      },
      "execution_count": 6,
      "outputs": []
    },
    {
      "cell_type": "markdown",
      "source": [
        "We cast both the 'Positive_review' and 'Negative_review' columns to strings and then concatenate them into a single `review' column. Combining both perspectives into one sentence helps the model learn the overall sentiment of the user experience.\n",
        "(spørsmål: er det dumt å ha stor bokstav på Posetiv og Negativ og så liten på reviews)\n"
      ],
      "metadata": {
        "id": "YHjqayayjBrY"
      }
    },
    {
      "cell_type": "code",
      "source": [
        "#Create label for bad reviews (score <= 8) BEFORE selecting specific columns\n",
        "#Most scores are above 8, so using 8 as the threshold helps capture truly negative reviews and keeps the classes balanced.\n",
        "df[\"Bad_reviews\"] = df[\"Reviewer_Score\"].apply(lambda x: 1 if x <= 8 else 0)"
      ],
      "metadata": {
        "id": "x6ir25hq2B9j"
      },
      "execution_count": 7,
      "outputs": []
    },
    {
      "cell_type": "markdown",
      "source": [
        "We define binary labels in the `Bad_reviews'column, before selcting specific columns:\n",
        "- 1 indicates a negativ experiense and happens when 'Reviewer_Score' is less or equal to 8\n",
        "- 0 indictes a posetive experiense\n",
        "we chose the limit to 8 beacuse, While the scale is from 0 to 10, the scores are skewed toward the higher end. A threshold of 8 captures meaningful negative feedback while maintaining class balance.\n",
        "\n",
        "The reason we define lables before selecting spesific colums is because at this point, we still have access to the original 'Reviewer_Score', which is necessary to generate the new label. If we had selected only the `reviwes' column too early, we would have lost the score and been unable to create our target label.\n",
        "\n",
        "\n"
      ],
      "metadata": {
        "id": "QM-80BmojJfh"
      }
    },
    {
      "cell_type": "code",
      "source": [
        "#Select the desired columns\n",
        "df = df[[\"reviews\", \"Bad_reviews\"]]"
      ],
      "metadata": {
        "id": "0nWjSlOM2FZt"
      },
      "execution_count": 8,
      "outputs": []
    },
    {
      "cell_type": "markdown",
      "source": [
        "We keep only the 'reviews' and the corresponding `Bad_reviews' label for our classification task. This ensures we focus solely on the textual content and sentiment label.\n"
      ],
      "metadata": {
        "id": "cCjTILUbjNPf"
      }
    },
    {
      "cell_type": "code",
      "source": [
        "#Basic cleanup: remove placeholder texts, drop missing/duplicate entries\n",
        "df[\"reviews\"] = (\n",
        "    df[\"reviews\"]\n",
        "    .str.replace(\"No Negative\", \"\", regex=False)\n",
        "    .str.replace(\"No Positive\", \"\", regex=False)\n",
        ")\n",
        "df.dropna(subset=[\"reviews\"], inplace=True)\n",
        "df.drop_duplicates(subset=[\"reviews\"], inplace=True) #Removing duplicate reviews"
      ],
      "metadata": {
        "id": "xURS5Eaw2Iqe"
      },
      "execution_count": 9,
      "outputs": []
    },
    {
      "cell_type": "markdown",
      "source": [
        "\n",
        "\n",
        "Before further preprocessing, we remove placeholder phrases like `\"No Positive\"` and `\"No Negative\"` that appear in the review texts. These don't carry any actual sentiment and may mislead the model.\n",
        "\n",
        "We also:\n",
        "- Remove rows with missing review text (NaNs) if there is any reviwes with no text\n",
        "- Drop duplicate reviews\n",
        "\n",
        "These steps reduce noise and ensure we train models on meaningful, unique data. Duplicates can bias models, and missing/placeholder content weakens learning.\n",
        "\n",
        "(trenger lowkey hjelp til å forklare denne, dette ble vel litt rotete)\n",
        "\n"
      ],
      "metadata": {
        "id": "NlkMfw0XjQu-"
      }
    },
    {
      "cell_type": "code",
      "source": [
        "#Define cleaning function\n",
        "def clean_text(text):\n",
        "    keep_words = {\"not\", \"no\", \"never\"}\n",
        "    text = text.lower()\n",
        "    text = re.sub(r\"[^a-zA-Z\\s]\", \"\", text)\n",
        "    words = word_tokenize(text)\n",
        "    stop_words = set(stopwords.words(\"english\"))\n",
        "    filtered_words = [w for w in words if (w not in stop_words) or (w in keep_words)]\n",
        "    lemmatizer = WordNetLemmatizer()\n",
        "    lemmatized_words = [lemmatizer.lemmatize(word) for word in filtered_words]\n",
        "    return \" \".join(lemmatized_words)"
      ],
      "metadata": {
        "id": "x1rX9HPf2NZc"
      },
      "execution_count": 10,
      "outputs": []
    },
    {
      "cell_type": "markdown",
      "source": [
        "We define a function to clean each review with the following steps:\n",
        "\n",
        "1. Lowercase all text to avoid treating words like \"Hotel\" and \"hotel\" as different.\n",
        "2. Remove punctuation/symbols using regex (we keep only alphabetic characters).\n",
        "3. Tokenize the sentence into words using NLTK's `word_tokenize'.\n",
        "4. Remove stopwords (e.g., \"the\", \"is\") that don't add sentiment value — Exception: we keep negation words like 'no', 'not', `never', because they can change the meaning based on what words that come next.\n",
        "5. Lemmatize words to reduce them to base form (e.g., \"running\" → \"run\"). This groups similar meanings together.\n",
        "\n",
        "Cleaning ensures a more compact vocabulary and helps models focus on important patterns in language.\n"
      ],
      "metadata": {
        "id": "aauN9n0ijWB8"
      }
    },
    {
      "cell_type": "code",
      "source": [
        "#Show removed and kept stopwords\n",
        "stop_words = set(stopwords.words(\"english\"))\n",
        "keep_words = {\"not\", \"no\", \"never\"}\n",
        "filtered_stopwords = sorted(stop_words - keep_words)\n",
        "\n",
        "print(f\"Stopwords used (removed): {len(filtered_stopwords)}\")\n",
        "print(filtered_stopwords)\n",
        "\n",
        "print(\"\\nStopwords kept (NOT removed):\")\n",
        "print(sorted(keep_words))"
      ],
      "metadata": {
        "colab": {
          "base_uri": "https://localhost:8080/"
        },
        "id": "yF3t5NikWTJr",
        "outputId": "e2b59695-fa44-4491-e8a0-c31abe0dff5e"
      },
      "execution_count": 13,
      "outputs": [
        {
          "output_type": "stream",
          "name": "stdout",
          "text": [
            "Stopwords used (removed): 196\n",
            "['a', 'about', 'above', 'after', 'again', 'against', 'ain', 'all', 'am', 'an', 'and', 'any', 'are', 'aren', \"aren't\", 'as', 'at', 'be', 'because', 'been', 'before', 'being', 'below', 'between', 'both', 'but', 'by', 'can', 'couldn', \"couldn't\", 'd', 'did', 'didn', \"didn't\", 'do', 'does', 'doesn', \"doesn't\", 'doing', 'don', \"don't\", 'down', 'during', 'each', 'few', 'for', 'from', 'further', 'had', 'hadn', \"hadn't\", 'has', 'hasn', \"hasn't\", 'have', 'haven', \"haven't\", 'having', 'he', \"he'd\", \"he'll\", \"he's\", 'her', 'here', 'hers', 'herself', 'him', 'himself', 'his', 'how', 'i', \"i'd\", \"i'll\", \"i'm\", \"i've\", 'if', 'in', 'into', 'is', 'isn', \"isn't\", 'it', \"it'd\", \"it'll\", \"it's\", 'its', 'itself', 'just', 'll', 'm', 'ma', 'me', 'mightn', \"mightn't\", 'more', 'most', 'mustn', \"mustn't\", 'my', 'myself', 'needn', \"needn't\", 'nor', 'now', 'o', 'of', 'off', 'on', 'once', 'only', 'or', 'other', 'our', 'ours', 'ourselves', 'out', 'over', 'own', 're', 's', 'same', 'shan', \"shan't\", 'she', \"she'd\", \"she'll\", \"she's\", 'should', \"should've\", 'shouldn', \"shouldn't\", 'so', 'some', 'such', 't', 'than', 'that', \"that'll\", 'the', 'their', 'theirs', 'them', 'themselves', 'then', 'there', 'these', 'they', \"they'd\", \"they'll\", \"they're\", \"they've\", 'this', 'those', 'through', 'to', 'too', 'under', 'until', 'up', 've', 'very', 'was', 'wasn', \"wasn't\", 'we', \"we'd\", \"we'll\", \"we're\", \"we've\", 'were', 'weren', \"weren't\", 'what', 'when', 'where', 'which', 'while', 'who', 'whom', 'why', 'will', 'with', 'won', \"won't\", 'wouldn', \"wouldn't\", 'y', 'you', \"you'd\", \"you'll\", \"you're\", \"you've\", 'your', 'yours', 'yourself', 'yourselves']\n",
            "\n",
            "Stopwords kept (NOT removed):\n",
            "['never', 'no', 'not']\n"
          ]
        }
      ]
    },
    {
      "cell_type": "markdown",
      "source": [
        "The cell above shows the stopwords removed and kept."
      ],
      "metadata": {
        "id": "C0PBaQ6ojXRY"
      }
    },
    {
      "cell_type": "code",
      "source": [
        "#Apply text cleaning\n",
        "df[\"Reviews_clean\"] = df[\"reviews\"].apply(clean_text)"
      ],
      "metadata": {
        "id": "-aPJ24MV2TGE"
      },
      "execution_count": null,
      "outputs": []
    },
    {
      "cell_type": "markdown",
      "source": [
        "We apply the 'clean-text' function to all reviews to generate a new column `Reviews_clean'.\n",
        "This cleaned version will be used for all model training steps. We keep the original version for comparison and analysis.\n"
      ],
      "metadata": {
        "id": "bTmaYM3xjhPw"
      }
    },
    {
      "cell_type": "code",
      "source": [
        "#Compute lengths of original and cleaned reviews\n",
        "df[\"len_before\"] = df[\"reviews\"].str.split().str.len()\n",
        "df[\"len_after\"] = df[\"Reviews_clean\"].str.split().str.len()"
      ],
      "metadata": {
        "id": "w7-NHhdZ59Jk"
      },
      "execution_count": null,
      "outputs": []
    },
    {
      "cell_type": "markdown",
      "source": [
        "We create two columns to help us quantify the effect of preprocessing and ensures we didn't accidentally remove too much content.\n"
      ],
      "metadata": {
        "id": "tlC9wXopjjeI"
      }
    },
    {
      "cell_type": "code",
      "source": [
        "#Plot histograms of review lengths\n",
        "plt.figure(figsize=(12, 6))\n",
        "\n",
        "plt.hist(df[\"len_before\"], bins=50, alpha=0.5, label=\"Before Cleaning\")\n",
        "plt.hist(df[\"len_after\"], bins=50, alpha=0.5, label=\"After Cleaning\")\n",
        "\n",
        "plt.xlabel(\"Number of Words\")\n",
        "plt.ylabel(\"Number of Reviews\")\n",
        "plt.title(\"Review Lengths Before and After Cleaning\")\n",
        "plt.legend()\n",
        "plt.grid(True)\n",
        "plt.show()"
      ],
      "metadata": {
        "colab": {
          "base_uri": "https://localhost:8080/",
          "height": 564
        },
        "id": "AfFqtHh25-dU",
        "outputId": "337213c9-2cf1-46ce-af5c-ab84ab7f24a5"
      },
      "execution_count": null,
      "outputs": [
        {
          "output_type": "display_data",
          "data": {
            "text/plain": [
              "<Figure size 1200x600 with 1 Axes>"
            ],
            "image/png": "[encoded data removed]"
          },
          "metadata": {}
        }
      ]
    },
    {
      "cell_type": "markdown",
      "source": [
        "We plot histograms showing the number of words before and after cleaning. This lets us see whether the cleaning drastically shortened the text and understand review length distribution (e.g., if we need to cap input length for neural networks later)\n",
        "We can use this information to choose padding lengths and detect outliers.\n"
      ],
      "metadata": {
        "id": "DiirC-cEjmZi"
      }
    },
    {
      "cell_type": "code",
      "source": [
        "#Final train-test split\n",
        "train_df, test_df = train_test_split(\n",
        "    df,\n",
        "    test_size=0.2,\n",
        "    random_state=42,\n",
        "    stratify=df[\"Bad_reviews\"]\n",
        ")"
      ],
      "metadata": {
        "id": "PBp2KgfR3AJN"
      },
      "execution_count": null,
      "outputs": []
    },
    {
      "cell_type": "markdown",
      "source": [
        "We split the dataset into training (80%) and testing (20%) sets using stratified sampling based on the `Bad_reviews' label. We use stratify as it ensures both train and test sets preserve the same class balance (positive/negative).\n",
        "\n",
        "The reason for splitting the data now is to avoid any data leakage by ensuring that all preprocessing or model training happens only on the training set.\n"
      ],
      "metadata": {
        "id": "yIKw88jhjqqH"
      }
    },
    {
      "cell_type": "code",
      "source": [
        "#Display sample output\n",
        "train_df.head()"
      ],
      "metadata": {
        "colab": {
          "base_uri": "https://localhost:8080/",
          "height": 206
        },
        "id": "SwoqMUiC3BTl",
        "outputId": "a7d5f330-ca01-41ef-8d43-ab6d27513d11"
      },
      "execution_count": null,
      "outputs": [
        {
          "output_type": "execute_result",
          "data": {
            "text/plain": [
              "                                                  reviews  Bad_reviews  \\\n",
              "85101    Quality and Convenience of location  Ridiculo...            0   \n",
              "184222   very good hotel in a central locationsatisfie...            0   \n",
              "158312   Excellent value for the money   The room was ...            1   \n",
              "447977    Excellent food Beautiful rooms Excellent staff             0   \n",
              "291385            Comfortable room Polite helpful staff              0   \n",
              "\n",
              "                                            Reviews_clean  len_before  \\\n",
              "85101   quality convenience location ridiculous not wi...          23   \n",
              "184222  good hotel central locationsatisfied happy cho...          14   \n",
              "158312  excellent value money room warm even fan supplied          15   \n",
              "447977      excellent food beautiful room excellent staff           6   \n",
              "291385              comfortable room polite helpful staff           5   \n",
              "\n",
              "        len_after  \n",
              "85101          13  \n",
              "184222          7  \n",
              "158312          8  \n",
              "447977          6  \n",
              "291385          5  "
            ],
            "text/html": [
              "\n",
              "  <div id=\"df-bd0aed98-92f0-4229-95ff-87934dba892c\" class=\"colab-df-container\">\n",
              "    <div>\n",
              "<style scoped>\n",
              "    .dataframe tbody tr th:only-of-type {\n",
              "        vertical-align: middle;\n",
              "    }\n",
              "\n",
              "    .dataframe tbody tr th {\n",
              "        vertical-align: top;\n",
              "    }\n",
              "\n",
              "    .dataframe thead th {\n",
              "        text-align: right;\n",
              "    }\n",
              "</style>\n",
              "<table border=\"1\" class=\"dataframe\">\n",
              "  <thead>\n",
              "    <tr style=\"text-align: right;\">\n",
              "      <th></th>\n",
              "      <th>reviews</th>\n",
              "      <th>Bad_reviews</th>\n",
              "      <th>Reviews_clean</th>\n",
              "      <th>len_before</th>\n",
              "      <th>len_after</th>\n",
              "    </tr>\n",
              "  </thead>\n",
              "  <tbody>\n",
              "    <tr>\n",
              "      <th>85101</th>\n",
              "      <td>Quality and Convenience of location  Ridiculo...</td>\n",
              "      <td>0</td>\n",
              "      <td>quality convenience location ridiculous not wi...</td>\n",
              "      <td>23</td>\n",
              "      <td>13</td>\n",
              "    </tr>\n",
              "    <tr>\n",
              "      <th>184222</th>\n",
              "      <td>very good hotel in a central locationsatisfie...</td>\n",
              "      <td>0</td>\n",
              "      <td>good hotel central locationsatisfied happy cho...</td>\n",
              "      <td>14</td>\n",
              "      <td>7</td>\n",
              "    </tr>\n",
              "    <tr>\n",
              "      <th>158312</th>\n",
              "      <td>Excellent value for the money   The room was ...</td>\n",
              "      <td>1</td>\n",
              "      <td>excellent value money room warm even fan supplied</td>\n",
              "      <td>15</td>\n",
              "      <td>8</td>\n",
              "    </tr>\n",
              "    <tr>\n",
              "      <th>447977</th>\n",
              "      <td>Excellent food Beautiful rooms Excellent staff</td>\n",
              "      <td>0</td>\n",
              "      <td>excellent food beautiful room excellent staff</td>\n",
              "      <td>6</td>\n",
              "      <td>6</td>\n",
              "    </tr>\n",
              "    <tr>\n",
              "      <th>291385</th>\n",
              "      <td>Comfortable room Polite helpful staff</td>\n",
              "      <td>0</td>\n",
              "      <td>comfortable room polite helpful staff</td>\n",
              "      <td>5</td>\n",
              "      <td>5</td>\n",
              "    </tr>\n",
              "  </tbody>\n",
              "</table>\n",
              "</div>\n",
              "    <div class=\"colab-df-buttons\">\n",
              "\n",
              "  <div class=\"colab-df-container\">\n",
              "    <button class=\"colab-df-convert\" onclick=\"convertToInteractive('df-bd0aed98-92f0-4229-95ff-87934dba892c')\"\n",
              "            title=\"Convert this dataframe to an interactive table.\"\n",
              "            style=\"display:none;\">\n",
              "\n",
              "  <svg xmlns=\"http://www.w3.org/2000/svg\" height=\"24px\" viewBox=\"0 -960 960 960\">\n",
              "    <path d=\"M120-120v-720h720v720H120Zm60-500h600v-160H180v160Zm220 220h160v-160H400v160Zm0 220h160v-160H400v160ZM180-400h160v-160H180v160Zm440 0h160v-160H620v160ZM180-180h160v-160H180v160Zm440 0h160v-160H620v160Z\"/>\n",
              "  </svg>\n",
              "    </button>\n",
              "\n",
              "  <style>\n",
              "    .colab-df-container {\n",
              "      display:flex;\n",
              "      gap: 12px;\n",
              "    }\n",
              "\n",
              "    .colab-df-convert {\n",
              "      background-color: #E8F0FE;\n",
              "      border: none;\n",
              "      border-radius: 50%;\n",
              "      cursor: pointer;\n",
              "      display: none;\n",
              "      fill: #1967D2;\n",
              "      height: 32px;\n",
              "      padding: 0 0 0 0;\n",
              "      width: 32px;\n",
              "    }\n",
              "\n",
              "    .colab-df-convert:hover {\n",
              "      background-color: #E2EBFA;\n",
              "      box-shadow: 0px 1px 2px rgba(60, 64, 67, 0.3), 0px 1px 3px 1px rgba(60, 64, 67, 0.15);\n",
              "      fill: #174EA6;\n",
              "    }\n",
              "\n",
              "    .colab-df-buttons div {\n",
              "      margin-bottom: 4px;\n",
              "    }\n",
              "\n",
              "    [theme=dark] .colab-df-convert {\n",
              "      background-color: #3B4455;\n",
              "      fill: #D2E3FC;\n",
              "    }\n",
              "\n",
              "    [theme=dark] .colab-df-convert:hover {\n",
              "      background-color: #434B5C;\n",
              "      box-shadow: 0px 1px 3px 1px rgba(0, 0, 0, 0.15);\n",
              "      filter: drop-shadow(0px 1px 2px rgba(0, 0, 0, 0.3));\n",
              "      fill: #FFFFFF;\n",
              "    }\n",
              "  </style>\n",
              "\n",
              "    <script>\n",
              "      const buttonEl =\n",
              "        document.querySelector('#df-bd0aed98-92f0-4229-95ff-87934dba892c button.colab-df-convert');\n",
              "      buttonEl.style.display =\n",
              "        google.colab.kernel.accessAllowed ? 'block' : 'none';\n",
              "\n",
              "      async function convertToInteractive(key) {\n",
              "        const element = document.querySelector('#df-bd0aed98-92f0-4229-95ff-87934dba892c');\n",
              "        const dataTable =\n",
              "          await google.colab.kernel.invokeFunction('convertToInteractive',\n",
              "                                                    [key], {});\n",
              "        if (!dataTable) return;\n",
              "\n",
              "        const docLinkHtml = 'Like what you see? Visit the ' +\n",
              "          '<a target=\"_blank\" href=https://colab.research.google.com/notebooks/data_table.ipynb>data table notebook</a>'\n",
              "          + ' to learn more about interactive tables.';\n",
              "        element.innerHTML = '';\n",
              "        dataTable['output_type'] = 'display_data';\n",
              "        await google.colab.output.renderOutput(dataTable, element);\n",
              "        const docLink = document.createElement('div');\n",
              "        docLink.innerHTML = docLinkHtml;\n",
              "        element.appendChild(docLink);\n",
              "      }\n",
              "    </script>\n",
              "  </div>\n",
              "\n",
              "\n",
              "<div id=\"df-03902466-9d19-431e-b263-f056270d5bc2\">\n",
              "  <button class=\"colab-df-quickchart\" onclick=\"quickchart('df-03902466-9d19-431e-b263-f056270d5bc2')\"\n",
              "            title=\"Suggest charts\"\n",
              "            style=\"display:none;\">\n",
              "\n",
              "<svg xmlns=\"http://www.w3.org/2000/svg\" height=\"24px\"viewBox=\"0 0 24 24\"\n",
              "     width=\"24px\">\n",
              "    <g>\n",
              "        <path d=\"M19 3H5c-1.1 0-2 .9-2 2v14c0 1.1.9 2 2 2h14c1.1 0 2-.9 2-2V5c0-1.1-.9-2-2-2zM9 17H7v-7h2v7zm4 0h-2V7h2v10zm4 0h-2v-4h2v4z\"/>\n",
              "    </g>\n",
              "</svg>\n",
              "  </button>\n",
              "\n",
              "<style>\n",
              "  .colab-df-quickchart {\n",
              "      --bg-color: #E8F0FE;\n",
              "      --fill-color: #1967D2;\n",
              "      --hover-bg-color: #E2EBFA;\n",
              "      --hover-fill-color: #174EA6;\n",
              "      --disabled-fill-color: #AAA;\n",
              "      --disabled-bg-color: #DDD;\n",
              "  }\n",
              "\n",
              "  [theme=dark] .colab-df-quickchart {\n",
              "      --bg-color: #3B4455;\n",
              "      --fill-color: #D2E3FC;\n",
              "      --hover-bg-color: #434B5C;\n",
              "      --hover-fill-color: #FFFFFF;\n",
              "      --disabled-bg-color: #3B4455;\n",
              "      --disabled-fill-color: #666;\n",
              "  }\n",
              "\n",
              "  .colab-df-quickchart {\n",
              "    background-color: var(--bg-color);\n",
              "    border: none;\n",
              "    border-radius: 50%;\n",
              "    cursor: pointer;\n",
              "    display: none;\n",
              "    fill: var(--fill-color);\n",
              "    height: 32px;\n",
              "    padding: 0;\n",
              "    width: 32px;\n",
              "  }\n",
              "\n",
              "  .colab-df-quickchart:hover {\n",
              "    background-color: var(--hover-bg-color);\n",
              "    box-shadow: 0 1px 2px rgba(60, 64, 67, 0.3), 0 1px 3px 1px rgba(60, 64, 67, 0.15);\n",
              "    fill: var(--button-hover-fill-color);\n",
              "  }\n",
              "\n",
              "  .colab-df-quickchart-complete:disabled,\n",
              "  .colab-df-quickchart-complete:disabled:hover {\n",
              "    background-color: var(--disabled-bg-color);\n",
              "    fill: var(--disabled-fill-color);\n",
              "    box-shadow: none;\n",
              "  }\n",
              "\n",
              "  .colab-df-spinner {\n",
              "    border: 2px solid var(--fill-color);\n",
              "    border-color: transparent;\n",
              "    border-bottom-color: var(--fill-color);\n",
              "    animation:\n",
              "      spin 1s steps(1) infinite;\n",
              "  }\n",
              "\n",
              "  @keyframes spin {\n",
              "    0% {\n",
              "      border-color: transparent;\n",
              "      border-bottom-color: var(--fill-color);\n",
              "      border-left-color: var(--fill-color);\n",
              "    }\n",
              "    20% {\n",
              "      border-color: transparent;\n",
              "      border-left-color: var(--fill-color);\n",
              "      border-top-color: var(--fill-color);\n",
              "    }\n",
              "    30% {\n",
              "      border-color: transparent;\n",
              "      border-left-color: var(--fill-color);\n",
              "      border-top-color: var(--fill-color);\n",
              "      border-right-color: var(--fill-color);\n",
              "    }\n",
              "    40% {\n",
              "      border-color: transparent;\n",
              "      border-right-color: var(--fill-color);\n",
              "      border-top-color: var(--fill-color);\n",
              "    }\n",
              "    60% {\n",
              "      border-color: transparent;\n",
              "      border-right-color: var(--fill-color);\n",
              "    }\n",
              "    80% {\n",
              "      border-color: transparent;\n",
              "      border-right-color: var(--fill-color);\n",
              "      border-bottom-color: var(--fill-color);\n",
              "    }\n",
              "    90% {\n",
              "      border-color: transparent;\n",
              "      border-bottom-color: var(--fill-color);\n",
              "    }\n",
              "  }\n",
              "</style>\n",
              "\n",
              "  <script>\n",
              "    async function quickchart(key) {\n",
              "      const quickchartButtonEl =\n",
              "        document.querySelector('#' + key + ' button');\n",
              "      quickchartButtonEl.disabled = true;  // To prevent multiple clicks.\n",
              "      quickchartButtonEl.classList.add('colab-df-spinner');\n",
              "      try {\n",
              "        const charts = await google.colab.kernel.invokeFunction(\n",
              "            'suggestCharts', [key], {});\n",
              "      } catch (error) {\n",
              "        console.error('Error during call to suggestCharts:', error);\n",
              "      }\n",
              "      quickchartButtonEl.classList.remove('colab-df-spinner');\n",
              "      quickchartButtonEl.classList.add('colab-df-quickchart-complete');\n",
              "    }\n",
              "    (() => {\n",
              "      let quickchartButtonEl =\n",
              "        document.querySelector('#df-03902466-9d19-431e-b263-f056270d5bc2 button');\n",
              "      quickchartButtonEl.style.display =\n",
              "        google.colab.kernel.accessAllowed ? 'block' : 'none';\n",
              "    })();\n",
              "  </script>\n",
              "</div>\n",
              "\n",
              "    </div>\n",
              "  </div>\n"
            ],
            "application/vnd.google.colaboratory.intrinsic+json": {
              "type": "dataframe",
              "variable_name": "train_df"
            }
          },
          "metadata": {},
          "execution_count": 15
        }
      ]
    },
    {
      "cell_type": "code",
      "source": [
        "print(\"Shape of the training data:\", train_df.shape)\n",
        "print(\"Shape of the testing data:\", test_df.shape)\n",
        "print(\"\\nFirst 5 rows of the training data:\")\n",
        "print(train_df.head())\n"
      ],
      "metadata": {
        "colab": {
          "base_uri": "https://localhost:8080/"
        },
        "id": "FhfoewckEGrZ",
        "outputId": "a54bcecc-25e9-43f6-c1b6-20a420c1659c"
      },
      "execution_count": null,
      "outputs": [
        {
          "output_type": "stream",
          "name": "stdout",
          "text": [
            "Shape of the training data: (399396, 5)\n",
            "Shape of the testing data: (99849, 5)\n",
            "\n",
            "First 5 rows of the training data:\n",
            "                                                  reviews  Bad_reviews  \\\n",
            "85101    Quality and Convenience of location  Ridiculo...            0   \n",
            "184222   very good hotel in a central locationsatisfie...            0   \n",
            "158312   Excellent value for the money   The room was ...            1   \n",
            "447977    Excellent food Beautiful rooms Excellent staff             0   \n",
            "291385            Comfortable room Polite helpful staff              0   \n",
            "\n",
            "                                            Reviews_clean  len_before  \\\n",
            "85101   quality convenience location ridiculous not wi...          23   \n",
            "184222  good hotel central locationsatisfied happy cho...          14   \n",
            "158312  excellent value money room warm even fan supplied          15   \n",
            "447977      excellent food beautiful room excellent staff           6   \n",
            "291385              comfortable room polite helpful staff           5   \n",
            "\n",
            "        len_after  \n",
            "85101          13  \n",
            "184222          7  \n",
            "158312          8  \n",
            "447977          6  \n",
            "291385          5  \n"
          ]
        }
      ]
    },
    {
      "cell_type": "code",
      "source": [
        "print(\"\\nInformation about the training data:\")\n",
        "print(train_df.info())\n",
        "print(\"\\nDescriptive statistics of the training data:\")\n",
        "print(train_df.describe())"
      ],
      "metadata": {
        "id": "RDxPIb6H9ZlW",
        "outputId": "d6215edb-5fe0-4026-b47e-22c58a4118df",
        "colab": {
          "base_uri": "https://localhost:8080/"
        }
      },
      "execution_count": null,
      "outputs": [
        {
          "output_type": "stream",
          "name": "stdout",
          "text": [
            "\n",
            "Information about the training data:\n",
            "<class 'pandas.core.frame.DataFrame'>\n",
            "Index: 399396 entries, 85101 to 416262\n",
            "Data columns (total 5 columns):\n",
            " #   Column         Non-Null Count   Dtype \n",
            "---  ------         --------------   ----- \n",
            " 0   reviews        399396 non-null  object\n",
            " 1   Bad_reviews    399396 non-null  int64 \n",
            " 2   Reviews_clean  399396 non-null  object\n",
            " 3   len_before     399396 non-null  int64 \n",
            " 4   len_after      399396 non-null  int64 \n",
            "dtypes: int64(3), object(2)\n",
            "memory usage: 18.3+ MB\n",
            "None\n",
            "\n",
            "Descriptive statistics of the training data:\n",
            "         Bad_reviews     len_before      len_after\n",
            "count  399396.000000  399396.000000  399396.000000\n",
            "mean        0.353181      34.641441      19.167616\n",
            "std         0.477959      38.518226      19.151940\n",
            "min         0.000000       0.000000       0.000000\n",
            "25%         0.000000      11.000000       7.000000\n",
            "50%         0.000000      23.000000      13.000000\n",
            "75%         1.000000      44.000000      24.000000\n",
            "max         1.000000     733.000000     349.000000\n"
          ]
        }
      ]
    },
    {
      "cell_type": "code",
      "execution_count": null,
      "metadata": {
        "id": "HlfKkBcTUmL2"
      },
      "outputs": [],
      "source": [
        "# TF-IDF Vectorization with bigrams\n",
        "# Justification for limit: 10000 features allow capturing relevant patterns without excessive computation.\n",
        "# With 10000, we reduce the chance of overfitting since this is a large dataset.\n",
        "tfidf_vectorizer = TfidfVectorizer(max_features=10000, ngram_range=(1,2))\n",
        "X_train_tfidf = tfidf_vectorizer.fit_transform(train_df[\"Reviews_clean\"])\n",
        "X_test_tfidf = tfidf_vectorizer.transform(test_df[\"Reviews_clean\"])"
      ]
    },
    {
      "cell_type": "markdown",
      "source": [
        "We use `TfidfVectorizer' to convert the cleaned review text into numerical feature vectors. Limiting the 'max-features' to 10000 to reduce memory issues and overfitting since this is a relatively large dataset and 10000 features allow capturing relevant patterns without excessive computation.\n",
        "'ngram_range=(1, 2)' Includes both unigrams (single words) and bigrams (2-word combinations). Bigrams allow the model to learn important phrases like “not good” or “very clean”.\n",
        "\n"
      ],
      "metadata": {
        "id": "SATDNOuGjupx"
      }
    },
    {
      "cell_type": "code",
      "execution_count": null,
      "metadata": {
        "id": "Z51nZIv7UmJ1"
      },
      "outputs": [],
      "source": [
        "y_train = train_df[\"Bad_reviews\"]\n",
        "y_test = test_df[\"Bad_reviews\"]"
      ]
    },
    {
      "cell_type": "markdown",
      "source": [
        "We store the binary target values ('Bad_reviews) in 'y_train' and `y_test'.\n",
        "\n",
        "This step keeps inputs ('X') and labels ('y') separate, which is standard practice for training and evaluation.\n"
      ],
      "metadata": {
        "id": "quopg-BljwZF"
      }
    },
    {
      "cell_type": "code",
      "execution_count": null,
      "metadata": {
        "colab": {
          "base_uri": "https://localhost:8080/",
          "height": 80
        },
        "id": "j1kS0RJCUmHS",
        "outputId": "95a1340d-81af-4bcd-b5a1-fa805ef828d4"
      },
      "outputs": [
        {
          "output_type": "execute_result",
          "data": {
            "text/plain": [
              "LogisticRegression(max_iter=1000)"
            ],
            "text/html": [
              "<style>#sk-container-id-1 {\n",
              "  /* Definition of color scheme common for light and dark mode */\n",
              "  --sklearn-color-text: #000;\n",
              "  --sklearn-color-text-muted: #666;\n",
              "  --sklearn-color-line: gray;\n",
              "  /* Definition of color scheme for unfitted estimators */\n",
              "  --sklearn-color-unfitted-level-0: #fff5e6;\n",
              "  --sklearn-color-unfitted-level-1: #f6e4d2;\n",
              "  --sklearn-color-unfitted-level-2: #ffe0b3;\n",
              "  --sklearn-color-unfitted-level-3: chocolate;\n",
              "  /* Definition of color scheme for fitted estimators */\n",
              "  --sklearn-color-fitted-level-0: #f0f8ff;\n",
              "  --sklearn-color-fitted-level-1: #d4ebff;\n",
              "  --sklearn-color-fitted-level-2: #b3dbfd;\n",
              "  --sklearn-color-fitted-level-3: cornflowerblue;\n",
              "\n",
              "  /* Specific color for light theme */\n",
              "  --sklearn-color-text-on-default-background: var(--sg-text-color, var(--theme-code-foreground, var(--jp-content-font-color1, black)));\n",
              "  --sklearn-color-background: var(--sg-background-color, var(--theme-background, var(--jp-layout-color0, white)));\n",
              "  --sklearn-color-border-box: var(--sg-text-color, var(--theme-code-foreground, var(--jp-content-font-color1, black)));\n",
              "  --sklearn-color-icon: #696969;\n",
              "\n",
              "  @media (prefers-color-scheme: dark) {\n",
              "    /* Redefinition of color scheme for dark theme */\n",
              "    --sklearn-color-text-on-default-background: var(--sg-text-color, var(--theme-code-foreground, var(--jp-content-font-color1, white)));\n",
              "    --sklearn-color-background: var(--sg-background-color, var(--theme-background, var(--jp-layout-color0, #111)));\n",
              "    --sklearn-color-border-box: var(--sg-text-color, var(--theme-code-foreground, var(--jp-content-font-color1, white)));\n",
              "    --sklearn-color-icon: #878787;\n",
              "  }\n",
              "}\n",
              "\n",
              "#sk-container-id-1 {\n",
              "  color: var(--sklearn-color-text);\n",
              "}\n",
              "\n",
              "#sk-container-id-1 pre {\n",
              "  padding: 0;\n",
              "}\n",
              "\n",
              "#sk-container-id-1 input.sk-hidden--visually {\n",
              "  border: 0;\n",
              "  clip: rect(1px 1px 1px 1px);\n",
              "  clip: rect(1px, 1px, 1px, 1px);\n",
              "  height: 1px;\n",
              "  margin: -1px;\n",
              "  overflow: hidden;\n",
              "  padding: 0;\n",
              "  position: absolute;\n",
              "  width: 1px;\n",
              "}\n",
              "\n",
              "#sk-container-id-1 div.sk-dashed-wrapped {\n",
              "  border: 1px dashed var(--sklearn-color-line);\n",
              "  margin: 0 0.4em 0.5em 0.4em;\n",
              "  box-sizing: border-box;\n",
              "  padding-bottom: 0.4em;\n",
              "  background-color: var(--sklearn-color-background);\n",
              "}\n",
              "\n",
              "#sk-container-id-1 div.sk-container {\n",
              "  /* jupyter's `normalize.less` sets `[hidden] { display: none; }`\n",
              "     but bootstrap.min.css set `[hidden] { display: none !important; }`\n",
              "     so we also need the `!important` here to be able to override the\n",
              "     default hidden behavior on the sphinx rendered scikit-learn.org.\n",
              "     See: https://github.com/scikit-learn/scikit-learn/issues/21755 */\n",
              "  display: inline-block !important;\n",
              "  position: relative;\n",
              "}\n",
              "\n",
              "#sk-container-id-1 div.sk-text-repr-fallback {\n",
              "  display: none;\n",
              "}\n",
              "\n",
              "div.sk-parallel-item,\n",
              "div.sk-serial,\n",
              "div.sk-item {\n",
              "  /* draw centered vertical line to link estimators */\n",
              "  background-image: linear-gradient(var(--sklearn-color-text-on-default-background), var(--sklearn-color-text-on-default-background));\n",
              "  background-size: 2px 100%;\n",
              "  background-repeat: no-repeat;\n",
              "  background-position: center center;\n",
              "}\n",
              "\n",
              "/* Parallel-specific style estimator block */\n",
              "\n",
              "#sk-container-id-1 div.sk-parallel-item::after {\n",
              "  content: \"\";\n",
              "  width: 100%;\n",
              "  border-bottom: 2px solid var(--sklearn-color-text-on-default-background);\n",
              "  flex-grow: 1;\n",
              "}\n",
              "\n",
              "#sk-container-id-1 div.sk-parallel {\n",
              "  display: flex;\n",
              "  align-items: stretch;\n",
              "  justify-content: center;\n",
              "  background-color: var(--sklearn-color-background);\n",
              "  position: relative;\n",
              "}\n",
              "\n",
              "#sk-container-id-1 div.sk-parallel-item {\n",
              "  display: flex;\n",
              "  flex-direction: column;\n",
              "}\n",
              "\n",
              "#sk-container-id-1 div.sk-parallel-item:first-child::after {\n",
              "  align-self: flex-end;\n",
              "  width: 50%;\n",
              "}\n",
              "\n",
              "#sk-container-id-1 div.sk-parallel-item:last-child::after {\n",
              "  align-self: flex-start;\n",
              "  width: 50%;\n",
              "}\n",
              "\n",
              "#sk-container-id-1 div.sk-parallel-item:only-child::after {\n",
              "  width: 0;\n",
              "}\n",
              "\n",
              "/* Serial-specific style estimator block */\n",
              "\n",
              "#sk-container-id-1 div.sk-serial {\n",
              "  display: flex;\n",
              "  flex-direction: column;\n",
              "  align-items: center;\n",
              "  background-color: var(--sklearn-color-background);\n",
              "  padding-right: 1em;\n",
              "  padding-left: 1em;\n",
              "}\n",
              "\n",
              "\n",
              "/* Toggleable style: style used for estimator/Pipeline/ColumnTransformer box that is\n",
              "clickable and can be expanded/collapsed.\n",
              "- Pipeline and ColumnTransformer use this feature and define the default style\n",
              "- Estimators will overwrite some part of the style using the `sk-estimator` class\n",
              "*/\n",
              "\n",
              "/* Pipeline and ColumnTransformer style (default) */\n",
              "\n",
              "#sk-container-id-1 div.sk-toggleable {\n",
              "  /* Default theme specific background. It is overwritten whether we have a\n",
              "  specific estimator or a Pipeline/ColumnTransformer */\n",
              "  background-color: var(--sklearn-color-background);\n",
              "}\n",
              "\n",
              "/* Toggleable label */\n",
              "#sk-container-id-1 label.sk-toggleable__label {\n",
              "  cursor: pointer;\n",
              "  display: flex;\n",
              "  width: 100%;\n",
              "  margin-bottom: 0;\n",
              "  padding: 0.5em;\n",
              "  box-sizing: border-box;\n",
              "  text-align: center;\n",
              "  align-items: start;\n",
              "  justify-content: space-between;\n",
              "  gap: 0.5em;\n",
              "}\n",
              "\n",
              "#sk-container-id-1 label.sk-toggleable__label .caption {\n",
              "  font-size: 0.6rem;\n",
              "  font-weight: lighter;\n",
              "  color: var(--sklearn-color-text-muted);\n",
              "}\n",
              "\n",
              "#sk-container-id-1 label.sk-toggleable__label-arrow:before {\n",
              "  /* Arrow on the left of the label */\n",
              "  content: \"▸\";\n",
              "  float: left;\n",
              "  margin-right: 0.25em;\n",
              "  color: var(--sklearn-color-icon);\n",
              "}\n",
              "\n",
              "#sk-container-id-1 label.sk-toggleable__label-arrow:hover:before {\n",
              "  color: var(--sklearn-color-text);\n",
              "}\n",
              "\n",
              "/* Toggleable content - dropdown */\n",
              "\n",
              "#sk-container-id-1 div.sk-toggleable__content {\n",
              "  max-height: 0;\n",
              "  max-width: 0;\n",
              "  overflow: hidden;\n",
              "  text-align: left;\n",
              "  /* unfitted */\n",
              "  background-color: var(--sklearn-color-unfitted-level-0);\n",
              "}\n",
              "\n",
              "#sk-container-id-1 div.sk-toggleable__content.fitted {\n",
              "  /* fitted */\n",
              "  background-color: var(--sklearn-color-fitted-level-0);\n",
              "}\n",
              "\n",
              "#sk-container-id-1 div.sk-toggleable__content pre {\n",
              "  margin: 0.2em;\n",
              "  border-radius: 0.25em;\n",
              "  color: var(--sklearn-color-text);\n",
              "  /* unfitted */\n",
              "  background-color: var(--sklearn-color-unfitted-level-0);\n",
              "}\n",
              "\n",
              "#sk-container-id-1 div.sk-toggleable__content.fitted pre {\n",
              "  /* unfitted */\n",
              "  background-color: var(--sklearn-color-fitted-level-0);\n",
              "}\n",
              "\n",
              "#sk-container-id-1 input.sk-toggleable__control:checked~div.sk-toggleable__content {\n",
              "  /* Expand drop-down */\n",
              "  max-height: 200px;\n",
              "  max-width: 100%;\n",
              "  overflow: auto;\n",
              "}\n",
              "\n",
              "#sk-container-id-1 input.sk-toggleable__control:checked~label.sk-toggleable__label-arrow:before {\n",
              "  content: \"▾\";\n",
              "}\n",
              "\n",
              "/* Pipeline/ColumnTransformer-specific style */\n",
              "\n",
              "#sk-container-id-1 div.sk-label input.sk-toggleable__control:checked~label.sk-toggleable__label {\n",
              "  color: var(--sklearn-color-text);\n",
              "  background-color: var(--sklearn-color-unfitted-level-2);\n",
              "}\n",
              "\n",
              "#sk-container-id-1 div.sk-label.fitted input.sk-toggleable__control:checked~label.sk-toggleable__label {\n",
              "  background-color: var(--sklearn-color-fitted-level-2);\n",
              "}\n",
              "\n",
              "/* Estimator-specific style */\n",
              "\n",
              "/* Colorize estimator box */\n",
              "#sk-container-id-1 div.sk-estimator input.sk-toggleable__control:checked~label.sk-toggleable__label {\n",
              "  /* unfitted */\n",
              "  background-color: var(--sklearn-color-unfitted-level-2);\n",
              "}\n",
              "\n",
              "#sk-container-id-1 div.sk-estimator.fitted input.sk-toggleable__control:checked~label.sk-toggleable__label {\n",
              "  /* fitted */\n",
              "  background-color: var(--sklearn-color-fitted-level-2);\n",
              "}\n",
              "\n",
              "#sk-container-id-1 div.sk-label label.sk-toggleable__label,\n",
              "#sk-container-id-1 div.sk-label label {\n",
              "  /* The background is the default theme color */\n",
              "  color: var(--sklearn-color-text-on-default-background);\n",
              "}\n",
              "\n",
              "/* On hover, darken the color of the background */\n",
              "#sk-container-id-1 div.sk-label:hover label.sk-toggleable__label {\n",
              "  color: var(--sklearn-color-text);\n",
              "  background-color: var(--sklearn-color-unfitted-level-2);\n",
              "}\n",
              "\n",
              "/* Label box, darken color on hover, fitted */\n",
              "#sk-container-id-1 div.sk-label.fitted:hover label.sk-toggleable__label.fitted {\n",
              "  color: var(--sklearn-color-text);\n",
              "  background-color: var(--sklearn-color-fitted-level-2);\n",
              "}\n",
              "\n",
              "/* Estimator label */\n",
              "\n",
              "#sk-container-id-1 div.sk-label label {\n",
              "  font-family: monospace;\n",
              "  font-weight: bold;\n",
              "  display: inline-block;\n",
              "  line-height: 1.2em;\n",
              "}\n",
              "\n",
              "#sk-container-id-1 div.sk-label-container {\n",
              "  text-align: center;\n",
              "}\n",
              "\n",
              "/* Estimator-specific */\n",
              "#sk-container-id-1 div.sk-estimator {\n",
              "  font-family: monospace;\n",
              "  border: 1px dotted var(--sklearn-color-border-box);\n",
              "  border-radius: 0.25em;\n",
              "  box-sizing: border-box;\n",
              "  margin-bottom: 0.5em;\n",
              "  /* unfitted */\n",
              "  background-color: var(--sklearn-color-unfitted-level-0);\n",
              "}\n",
              "\n",
              "#sk-container-id-1 div.sk-estimator.fitted {\n",
              "  /* fitted */\n",
              "  background-color: var(--sklearn-color-fitted-level-0);\n",
              "}\n",
              "\n",
              "/* on hover */\n",
              "#sk-container-id-1 div.sk-estimator:hover {\n",
              "  /* unfitted */\n",
              "  background-color: var(--sklearn-color-unfitted-level-2);\n",
              "}\n",
              "\n",
              "#sk-container-id-1 div.sk-estimator.fitted:hover {\n",
              "  /* fitted */\n",
              "  background-color: var(--sklearn-color-fitted-level-2);\n",
              "}\n",
              "\n",
              "/* Specification for estimator info (e.g. \"i\" and \"?\") */\n",
              "\n",
              "/* Common style for \"i\" and \"?\" */\n",
              "\n",
              ".sk-estimator-doc-link,\n",
              "a:link.sk-estimator-doc-link,\n",
              "a:visited.sk-estimator-doc-link {\n",
              "  float: right;\n",
              "  font-size: smaller;\n",
              "  line-height: 1em;\n",
              "  font-family: monospace;\n",
              "  background-color: var(--sklearn-color-background);\n",
              "  border-radius: 1em;\n",
              "  height: 1em;\n",
              "  width: 1em;\n",
              "  text-decoration: none !important;\n",
              "  margin-left: 0.5em;\n",
              "  text-align: center;\n",
              "  /* unfitted */\n",
              "  border: var(--sklearn-color-unfitted-level-1) 1pt solid;\n",
              "  color: var(--sklearn-color-unfitted-level-1);\n",
              "}\n",
              "\n",
              ".sk-estimator-doc-link.fitted,\n",
              "a:link.sk-estimator-doc-link.fitted,\n",
              "a:visited.sk-estimator-doc-link.fitted {\n",
              "  /* fitted */\n",
              "  border: var(--sklearn-color-fitted-level-1) 1pt solid;\n",
              "  color: var(--sklearn-color-fitted-level-1);\n",
              "}\n",
              "\n",
              "/* On hover */\n",
              "div.sk-estimator:hover .sk-estimator-doc-link:hover,\n",
              ".sk-estimator-doc-link:hover,\n",
              "div.sk-label-container:hover .sk-estimator-doc-link:hover,\n",
              ".sk-estimator-doc-link:hover {\n",
              "  /* unfitted */\n",
              "  background-color: var(--sklearn-color-unfitted-level-3);\n",
              "  color: var(--sklearn-color-background);\n",
              "  text-decoration: none;\n",
              "}\n",
              "\n",
              "div.sk-estimator.fitted:hover .sk-estimator-doc-link.fitted:hover,\n",
              ".sk-estimator-doc-link.fitted:hover,\n",
              "div.sk-label-container:hover .sk-estimator-doc-link.fitted:hover,\n",
              ".sk-estimator-doc-link.fitted:hover {\n",
              "  /* fitted */\n",
              "  background-color: var(--sklearn-color-fitted-level-3);\n",
              "  color: var(--sklearn-color-background);\n",
              "  text-decoration: none;\n",
              "}\n",
              "\n",
              "/* Span, style for the box shown on hovering the info icon */\n",
              ".sk-estimator-doc-link span {\n",
              "  display: none;\n",
              "  z-index: 9999;\n",
              "  position: relative;\n",
              "  font-weight: normal;\n",
              "  right: .2ex;\n",
              "  padding: .5ex;\n",
              "  margin: .5ex;\n",
              "  width: min-content;\n",
              "  min-width: 20ex;\n",
              "  max-width: 50ex;\n",
              "  color: var(--sklearn-color-text);\n",
              "  box-shadow: 2pt 2pt 4pt #999;\n",
              "  /* unfitted */\n",
              "  background: var(--sklearn-color-unfitted-level-0);\n",
              "  border: .5pt solid var(--sklearn-color-unfitted-level-3);\n",
              "}\n",
              "\n",
              ".sk-estimator-doc-link.fitted span {\n",
              "  /* fitted */\n",
              "  background: var(--sklearn-color-fitted-level-0);\n",
              "  border: var(--sklearn-color-fitted-level-3);\n",
              "}\n",
              "\n",
              ".sk-estimator-doc-link:hover span {\n",
              "  display: block;\n",
              "}\n",
              "\n",
              "/* \"?\"-specific style due to the `<a>` HTML tag */\n",
              "\n",
              "#sk-container-id-1 a.estimator_doc_link {\n",
              "  float: right;\n",
              "  font-size: 1rem;\n",
              "  line-height: 1em;\n",
              "  font-family: monospace;\n",
              "  background-color: var(--sklearn-color-background);\n",
              "  border-radius: 1rem;\n",
              "  height: 1rem;\n",
              "  width: 1rem;\n",
              "  text-decoration: none;\n",
              "  /* unfitted */\n",
              "  color: var(--sklearn-color-unfitted-level-1);\n",
              "  border: var(--sklearn-color-unfitted-level-1) 1pt solid;\n",
              "}\n",
              "\n",
              "#sk-container-id-1 a.estimator_doc_link.fitted {\n",
              "  /* fitted */\n",
              "  border: var(--sklearn-color-fitted-level-1) 1pt solid;\n",
              "  color: var(--sklearn-color-fitted-level-1);\n",
              "}\n",
              "\n",
              "/* On hover */\n",
              "#sk-container-id-1 a.estimator_doc_link:hover {\n",
              "  /* unfitted */\n",
              "  background-color: var(--sklearn-color-unfitted-level-3);\n",
              "  color: var(--sklearn-color-background);\n",
              "  text-decoration: none;\n",
              "}\n",
              "\n",
              "#sk-container-id-1 a.estimator_doc_link.fitted:hover {\n",
              "  /* fitted */\n",
              "  background-color: var(--sklearn-color-fitted-level-3);\n",
              "}\n",
              "</style><div id=\"sk-container-id-1\" class=\"sk-top-container\"><div class=\"sk-text-repr-fallback\"><pre>LogisticRegression(max_iter=1000)</pre><b>In a Jupyter environment, please rerun this cell to show the HTML representation or trust the notebook. <br />On GitHub, the HTML representation is unable to render, please try loading this page with nbviewer.org.</b></div><div class=\"sk-container\" hidden><div class=\"sk-item\"><div class=\"sk-estimator fitted sk-toggleable\"><input class=\"sk-toggleable__control sk-hidden--visually\" id=\"sk-estimator-id-1\" type=\"checkbox\" checked><label for=\"sk-estimator-id-1\" class=\"sk-toggleable__label fitted sk-toggleable__label-arrow\"><div><div>LogisticRegression</div></div><div><a class=\"sk-estimator-doc-link fitted\" rel=\"noreferrer\" target=\"_blank\" href=\"https://scikit-learn.org/1.6/modules/generated/sklearn.linear_model.LogisticRegression.html\">?<span>Documentation for LogisticRegression</span></a><span class=\"sk-estimator-doc-link fitted\">i<span>Fitted</span></span></div></label><div class=\"sk-toggleable__content fitted\"><pre>LogisticRegression(max_iter=1000)</pre></div> </div></div></div></div>"
            ]
          },
          "metadata": {},
          "execution_count": 19
        }
      ],
      "source": [
        "# Logistic Regression Model\n",
        "lr_model = LogisticRegression(max_iter=1000)\n",
        "lr_model.fit(X_train_tfidf, y_train)"
      ]
    },
    {
      "cell_type": "markdown",
      "source": [
        "We train a `LogisticRegression' model on the TF-IDF features.\n",
        "\n",
        "The reason for choosing logistic regression as one of the models its because it’s a strong and interpretable baseline for binary classification. The model is fast to train, and handles high-dimensional text data well. And also works well when features are transformed with TF-IDF.\n",
        "\n",
        "We increase `max_iter=1000' to ensure convergence, as text models often require more iterations.\n"
      ],
      "metadata": {
        "id": "KkZmtVVWjzsr"
      }
    },
    {
      "cell_type": "code",
      "execution_count": null,
      "metadata": {
        "colab": {
          "base_uri": "https://localhost:8080/"
        },
        "id": "4FpLdIRFUmEW",
        "outputId": "e1b3cbff-152d-41f3-d14c-868261543969"
      },
      "outputs": [
        {
          "output_type": "stream",
          "name": "stdout",
          "text": [
            "--- Logistic Regression (TF-IDF) Evaluation ---\n",
            "Accuracy: 0.8100331500565855\n",
            "Precision: 0.7623386239979395\n",
            "Recall: 0.6714589536367503\n",
            "Confusion Matrix:\n",
            "[[57202  7382]\n",
            " [11586 23679]]\n",
            "\n",
            "Classification Report:\n",
            "              precision    recall  f1-score   support\n",
            "\n",
            "           0       0.83      0.89      0.86     64584\n",
            "           1       0.76      0.67      0.71     35265\n",
            "\n",
            "    accuracy                           0.81     99849\n",
            "   macro avg       0.80      0.78      0.79     99849\n",
            "weighted avg       0.81      0.81      0.81     99849\n",
            "\n"
          ]
        }
      ],
      "source": [
        "def evaluate_model(model, X_test, y_test, model_name):\n",
        "    y_pred = model.predict(X_test)\n",
        "    print(f\"--- {model_name} Evaluation ---\")\n",
        "    print(\"Accuracy:\", accuracy_score(y_test, y_pred))\n",
        "    print(\"Precision:\", precision_score(y_test, y_pred))\n",
        "    print(\"Recall:\", recall_score(y_test, y_pred))\n",
        "#    print(\"F1 Score:\", f1_score(y_test, y_pred))\n",
        "    print(\"Confusion Matrix:\")\n",
        "    print(confusion_matrix(y_test, y_pred))\n",
        "    print(\"\\nClassification Report:\")\n",
        "    print(classification_report(y_test, y_pred))\n",
        "\n",
        "evaluate_model(lr_model, X_test_tfidf, y_test, \"Logistic Regression (TF-IDF)\")"
      ]
    },
    {
      "cell_type": "markdown",
      "source": [
        "We define a reusable `evaluate_model()' function to compute:\n",
        "- Accuracy\n",
        "- Precision\n",
        "- Recall\n",
        "- Confusion Matrix\n",
        "- Classification Report\n",
        "\n",
        "Precision is important here because we want to avoid falsely labeling positive reviews as negative (false positives). Recall ensures we don’t miss many bad reviews. And F1-score balances both\n",
        "(spørsmål: hvorfor er f1-scre kommentert ut)"
      ],
      "metadata": {
        "id": "QmnBHu_fj2Ij"
      }
    },
    {
      "cell_type": "code",
      "execution_count": null,
      "metadata": {
        "colab": {
          "base_uri": "https://localhost:8080/"
        },
        "id": "rtzyLWj1UmBw",
        "outputId": "2f6d99bc-c50c-4d4f-c93b-a8711ce474a8"
      },
      "outputs": [
        {
          "output_type": "stream",
          "name": "stdout",
          "text": [
            "--- Naive Bayes (TF-IDF) Evaluation ---\n",
            "Accuracy: 0.7946899818726276\n",
            "Precision: 0.7416134838815251\n",
            "Recall: 0.6425634481780802\n",
            "Confusion Matrix:\n",
            "[[56689  7895]\n",
            " [12605 22660]]\n",
            "\n",
            "Classification Report:\n",
            "              precision    recall  f1-score   support\n",
            "\n",
            "           0       0.82      0.88      0.85     64584\n",
            "           1       0.74      0.64      0.69     35265\n",
            "\n",
            "    accuracy                           0.79     99849\n",
            "   macro avg       0.78      0.76      0.77     99849\n",
            "weighted avg       0.79      0.79      0.79     99849\n",
            "\n"
          ]
        }
      ],
      "source": [
        "# Train and Evaluate Naive Bayes Model\n",
        "nb_model = MultinomialNB()\n",
        "nb_model.fit(X_train_tfidf, y_train)\n",
        "evaluate_model(nb_model, X_test_tfidf, y_test, \"Naive Bayes (TF-IDF)\")"
      ]
    },
    {
      "cell_type": "markdown",
      "source": [
        "We train a `MultinomialNB' model using the same TF-IDF features.\n",
        "\n",
        "The reason for choosing a Naive Bayes Model is because its widely used for text classification tasks. Very fast and efficient for high-dimensional sparse data like TF-IDF. And often performs surprisingly well as a baseline.\n",
        "\n",
        "Evaluation helps us compare performance against Logistic Regression.\n"
      ],
      "metadata": {
        "id": "ZaDyTkghj-4P"
      }
    },
    {
      "cell_type": "code",
      "execution_count": null,
      "metadata": {
        "colab": {
          "base_uri": "https://localhost:8080/"
        },
        "id": "kQXIgJlYUl-9",
        "outputId": "1bf0650b-7bdd-487b-d879-dd06e7595500"
      },
      "outputs": [
        {
          "output_type": "stream",
          "name": "stdout",
          "text": [
            "--- Decision Tree (TF-IDF) Evaluation ---\n",
            "Accuracy: 0.7212190407515349\n",
            "Precision: 0.6617743129654632\n",
            "Recall: 0.43088047639302424\n",
            "F1 Score: 0.5219317830522447\n",
            "Confusion Matrix:\n",
            "[[56818  7766]\n",
            " [20070 15195]]\n",
            "\n",
            "Classification Report:\n",
            "              precision    recall  f1-score   support\n",
            "\n",
            "           0       0.74      0.88      0.80     64584\n",
            "           1       0.66      0.43      0.52     35265\n",
            "\n",
            "    accuracy                           0.72     99849\n",
            "   macro avg       0.70      0.66      0.66     99849\n",
            "weighted avg       0.71      0.72      0.70     99849\n",
            "\n"
          ]
        }
      ],
      "source": [
        "# Train and Evaluate Decision Tree Model\n",
        "dt_model = DecisionTreeClassifier(max_depth=10, random_state=42) #Max depth added to cap training time and to avoid overfitting.\n",
        "# Based on previous evaluation, deeper trees (e.g., 30) overfit and reduce recall significantly\n",
        "dt_model.fit(X_train_tfidf, y_train)\n",
        "evaluate_model(dt_model, X_test_tfidf, y_test, \"Decision Tree (TF-IDF)\")"
      ]
    },
    {
      "cell_type": "markdown",
      "source": [
        "We train a 'DecisionTreeClassifier' with a 'max_depth=10'. Max depth was limited to 10 because deeper trees can overfit easily, especially with sparse, high-dimensional data. During tuning, deeper trees reduced recall, so this cap balances generalization and training time.\n",
        "\n",
        "Decision trees also offer interpretability, though they often underperform compared to ensemble models on text.\n"
      ],
      "metadata": {
        "id": "-47NClvlkCct"
      }
    },
    {
      "cell_type": "code",
      "execution_count": null,
      "metadata": {
        "id": "RrGoYizVUzE5"
      },
      "outputs": [],
      "source": [
        "# LSTM Model Training\n",
        "max_vocab = 10000    # Limit to top 10,000 most frequent tokens to reduce memory & overfitting\n",
        "max_len = 100        # Pad/truncate reviews to 100 tokens for consistent input shape\n",
        "embedding_dim = 100  # 100-dim word embeddings balance expressiveness and efficiency"
      ]
    },
    {
      "cell_type": "code",
      "execution_count": null,
      "metadata": {
        "id": "VoX9mVykUzCb"
      },
      "outputs": [],
      "source": [
        "tokenizer = Tokenizer(num_words=max_vocab, oov_token=\"<OOV>\") # Use top 10k words; mark unknown words as <OOV>\n",
        "tokenizer.fit_on_texts(train_df[\"Reviews_clean\"])             # Build word index from training reviews only"
      ]
    },
    {
      "cell_type": "markdown",
      "source": [
        "We use a `Tokenizer' from Keras to convert text into integer sequences.\n",
        "Parameters:\n",
        "- `num_words=10000': Only keep the 10,000 most frequent words to reduce memory usage and prevent overfitting.\n",
        "- `oov_token=\"<OOV>\"': Any word not seen during training will be replaced with this token, preventing crashes from unseen test-time tokens.\n",
        "\n",
        "we have to do these steps because Neural networks (like LSTMs) can't process raw text. They require fixed-length sequences of integers representing word indices."
      ],
      "metadata": {
        "id": "jEyOl0BZkEX7"
      }
    },
    {
      "cell_type": "code",
      "execution_count": null,
      "metadata": {
        "id": "6r4IiGugUzAT"
      },
      "outputs": [],
      "source": [
        "X_train_seq = tokenizer.texts_to_sequences(train_df[\"Reviews_clean\"])   # Convert words to integer sequences\n",
        "X_test_seq = tokenizer.texts_to_sequences(test_df[\"Reviews_clean\"])     # Apply same tokenizer to test data\n",
        "X_train_pad = pad_sequences(X_train_seq, maxlen=max_len, padding='post', truncating='post') # Pad/truncate to length 100\n",
        "X_test_pad = pad_sequences(X_test_seq, maxlen=max_len, padding='post', truncating='post')"
      ]
    },
    {
      "cell_type": "markdown",
      "source": [
        "We transform the tokenized sequences to have equal length using `pad_sequences()':\n",
        "\n",
        "- `maxlen=100': All reviews are padded or truncated to 100 tokens.\n",
        "- 'padding='post'', `truncating='post'': Ensures that beginning of the sentence remains intact.\n",
        "\n",
        "the reason for picking 100 tokens:\n",
        "A histogram of review lengths showed that most cleaned reviews are under 100 words. So, 100 balances:\n",
        "- Enough context for the model\n",
        "- Computational efficiency"
      ],
      "metadata": {
        "id": "DdVUdrP0kHF4"
      }
    },
    {
      "cell_type": "code",
      "execution_count": null,
      "metadata": {
        "id": "_115PD5bUy9R"
      },
      "outputs": [],
      "source": [
        "# Build and Train LSTM Model\n",
        "lstm_model = Sequential([\n",
        "    Embedding(input_dim=max_vocab, output_dim=embedding_dim),# Word embeddings\n",
        "    LSTM(64, return_sequences=False),\n",
        "    Dropout(0.5),  # Prevent overfitting\n",
        "    Dense(1, activation='sigmoid') # Binary classification output\n",
        "])"
      ]
    },
    {
      "cell_type": "markdown",
      "source": [
        "We define a `Sequential' model using the following layers:\n",
        "\n",
        "`Embedding':\n",
        "Maps each word to a dense vector of size 100. This helps the model understand word similarity. - `input_dim=10000' limit the vocabulary to the top 10,000 most frequent words in the training data. It captures enough variety without making the model too large or slow. This is a common choice in NLP tasks to balance memory and performance. 'output_dim=100' makes each word mapped to a 100-dimensional dense vector (embedding). it's a popular and effective size for capturing semantic meaning without requiring excessive computation. Pre-trained embeddings like GloVe often use 50, 100, 200, or 300 dimensions.\n",
        "\n",
        "`LSTM(64)':\n",
        "Captures sequential word patterns and long-range dependencies.`64' is the number of memory units (or neurons) in the LSTM layer. It's a moderate size — large enough to learn patterns over sequences, but not so large that it overfits quickly or trains too slowly. More units = more memory and complexity, but also more risk of overfitting.\n",
        "\n",
        "`Dropout(0.5)':\n",
        "Reduces overfitting by randomly dropping 50% of neurons during training.`0.5' means that 50% of the neurons are randomly \"dropped out\" during training. Dropout helps prevent overfitting by forcing the model to not rely too much on any one feature. 0.5 is a standard and relatively strong dropout rate, often used in text models.\n",
        "\n",
        "`Dense(1, activation='sigmoid')':\n",
        "Outputs a probability score for binary classification. `1' The output layer has one neuron because we are solving a binary classification task (bad review or not). The activation function 'sigmoid' squashes the output to a value between 0 and 1 — representing a probability.\n",
        "\n",
        "\n",
        "\n",
        "\n",
        "LSTM (Long Short-Term Memory) networks are great at modeling language and capturing contextual meaning across words in a sequence.\n",
        "\n"
      ],
      "metadata": {
        "id": "_JwA1vxokI4W"
      }
    },
    {
      "cell_type": "code",
      "execution_count": null,
      "metadata": {
        "id": "DbuV48RAUy66",
        "colab": {
          "base_uri": "https://localhost:8080/",
          "height": 257
        },
        "outputId": "7ae13719-29bb-4a7f-e048-d7826a13d4d4"
      },
      "outputs": [
        {
          "output_type": "display_data",
          "data": {
            "text/plain": [
              "\u001b[1mModel: \"sequential_1\"\u001b[0m\n"
            ],
            "text/html": [
              "<pre style=\"white-space:pre;overflow-x:auto;line-height:normal;font-family:Menlo,'DejaVu Sans Mono',consolas,'Courier New',monospace\"><span style=\"font-weight: bold\">Model: \"sequential_1\"</span>\n",
              "</pre>\n"
            ]
          },
          "metadata": {}
        },
        {
          "output_type": "display_data",
          "data": {
            "text/plain": [
              "┏━━━━━━━━━━━━━━━━━━━━━━━━━━━━━━━━━┳━━━━━━━━━━━━━━━━━━━━━━━━┳━━━━━━━━━━━━━━━┓\n",
              "┃\u001b[1m \u001b[0m\u001b[1mLayer (type)                   \u001b[0m\u001b[1m \u001b[0m┃\u001b[1m \u001b[0m\u001b[1mOutput Shape          \u001b[0m\u001b[1m \u001b[0m┃\u001b[1m \u001b[0m\u001b[1m      Param #\u001b[0m\u001b[1m \u001b[0m┃\n",
              "┡━━━━━━━━━━━━━━━━━━━━━━━━━━━━━━━━━╇━━━━━━━━━━━━━━━━━━━━━━━━╇━━━━━━━━━━━━━━━┩\n",
              "│ embedding_1 (\u001b[38;5;33mEmbedding\u001b[0m)         │ (\u001b[38;5;45mNone\u001b[0m, \u001b[38;5;34m100\u001b[0m, \u001b[38;5;34m100\u001b[0m)       │     \u001b[38;5;34m1,000,000\u001b[0m │\n",
              "├─────────────────────────────────┼────────────────────────┼───────────────┤\n",
              "│ lstm_1 (\u001b[38;5;33mLSTM\u001b[0m)                   │ (\u001b[38;5;45mNone\u001b[0m, \u001b[38;5;34m64\u001b[0m)             │        \u001b[38;5;34m42,240\u001b[0m │\n",
              "├─────────────────────────────────┼────────────────────────┼───────────────┤\n",
              "│ dropout_1 (\u001b[38;5;33mDropout\u001b[0m)             │ (\u001b[38;5;45mNone\u001b[0m, \u001b[38;5;34m64\u001b[0m)             │             \u001b[38;5;34m0\u001b[0m │\n",
              "├─────────────────────────────────┼────────────────────────┼───────────────┤\n",
              "│ dense_1 (\u001b[38;5;33mDense\u001b[0m)                 │ (\u001b[38;5;45mNone\u001b[0m, \u001b[38;5;34m1\u001b[0m)              │            \u001b[38;5;34m65\u001b[0m │\n",
              "└─────────────────────────────────┴────────────────────────┴───────────────┘\n"
            ],
            "text/html": [
              "<pre style=\"white-space:pre;overflow-x:auto;line-height:normal;font-family:Menlo,'DejaVu Sans Mono',consolas,'Courier New',monospace\">┏━━━━━━━━━━━━━━━━━━━━━━━━━━━━━━━━━┳━━━━━━━━━━━━━━━━━━━━━━━━┳━━━━━━━━━━━━━━━┓\n",
              "┃<span style=\"font-weight: bold\"> Layer (type)                    </span>┃<span style=\"font-weight: bold\"> Output Shape           </span>┃<span style=\"font-weight: bold\">       Param # </span>┃\n",
              "┡━━━━━━━━━━━━━━━━━━━━━━━━━━━━━━━━━╇━━━━━━━━━━━━━━━━━━━━━━━━╇━━━━━━━━━━━━━━━┩\n",
              "│ embedding_1 (<span style=\"color: #0087ff; text-decoration-color: #0087ff\">Embedding</span>)         │ (<span style=\"color: #00d7ff; text-decoration-color: #00d7ff\">None</span>, <span style=\"color: #00af00; text-decoration-color: #00af00\">100</span>, <span style=\"color: #00af00; text-decoration-color: #00af00\">100</span>)       │     <span style=\"color: #00af00; text-decoration-color: #00af00\">1,000,000</span> │\n",
              "├─────────────────────────────────┼────────────────────────┼───────────────┤\n",
              "│ lstm_1 (<span style=\"color: #0087ff; text-decoration-color: #0087ff\">LSTM</span>)                   │ (<span style=\"color: #00d7ff; text-decoration-color: #00d7ff\">None</span>, <span style=\"color: #00af00; text-decoration-color: #00af00\">64</span>)             │        <span style=\"color: #00af00; text-decoration-color: #00af00\">42,240</span> │\n",
              "├─────────────────────────────────┼────────────────────────┼───────────────┤\n",
              "│ dropout_1 (<span style=\"color: #0087ff; text-decoration-color: #0087ff\">Dropout</span>)             │ (<span style=\"color: #00d7ff; text-decoration-color: #00d7ff\">None</span>, <span style=\"color: #00af00; text-decoration-color: #00af00\">64</span>)             │             <span style=\"color: #00af00; text-decoration-color: #00af00\">0</span> │\n",
              "├─────────────────────────────────┼────────────────────────┼───────────────┤\n",
              "│ dense_1 (<span style=\"color: #0087ff; text-decoration-color: #0087ff\">Dense</span>)                 │ (<span style=\"color: #00d7ff; text-decoration-color: #00d7ff\">None</span>, <span style=\"color: #00af00; text-decoration-color: #00af00\">1</span>)              │            <span style=\"color: #00af00; text-decoration-color: #00af00\">65</span> │\n",
              "└─────────────────────────────────┴────────────────────────┴───────────────┘\n",
              "</pre>\n"
            ]
          },
          "metadata": {}
        },
        {
          "output_type": "display_data",
          "data": {
            "text/plain": [
              "\u001b[1m Total params: \u001b[0m\u001b[38;5;34m1,042,305\u001b[0m (3.98 MB)\n"
            ],
            "text/html": [
              "<pre style=\"white-space:pre;overflow-x:auto;line-height:normal;font-family:Menlo,'DejaVu Sans Mono',consolas,'Courier New',monospace\"><span style=\"font-weight: bold\"> Total params: </span><span style=\"color: #00af00; text-decoration-color: #00af00\">1,042,305</span> (3.98 MB)\n",
              "</pre>\n"
            ]
          },
          "metadata": {}
        },
        {
          "output_type": "display_data",
          "data": {
            "text/plain": [
              "\u001b[1m Trainable params: \u001b[0m\u001b[38;5;34m1,042,305\u001b[0m (3.98 MB)\n"
            ],
            "text/html": [
              "<pre style=\"white-space:pre;overflow-x:auto;line-height:normal;font-family:Menlo,'DejaVu Sans Mono',consolas,'Courier New',monospace\"><span style=\"font-weight: bold\"> Trainable params: </span><span style=\"color: #00af00; text-decoration-color: #00af00\">1,042,305</span> (3.98 MB)\n",
              "</pre>\n"
            ]
          },
          "metadata": {}
        },
        {
          "output_type": "display_data",
          "data": {
            "text/plain": [
              "\u001b[1m Non-trainable params: \u001b[0m\u001b[38;5;34m0\u001b[0m (0.00 B)\n"
            ],
            "text/html": [
              "<pre style=\"white-space:pre;overflow-x:auto;line-height:normal;font-family:Menlo,'DejaVu Sans Mono',consolas,'Courier New',monospace\"><span style=\"font-weight: bold\"> Non-trainable params: </span><span style=\"color: #00af00; text-decoration-color: #00af00\">0</span> (0.00 B)\n",
              "</pre>\n"
            ]
          },
          "metadata": {}
        }
      ],
      "source": [
        "# Compile the LSTM model\n",
        "lstm_model.compile(loss='binary_crossentropy', optimizer='adam', metrics=['accuracy'])\n",
        "lstm_model.build(input_shape=(None, max_len)) # Manually build the model with input shape: batch x sequence_length\n",
        "lstm_model.summary()                          # Now shows actual layer sizes & parameter counts"
      ]
    },
    {
      "cell_type": "code",
      "execution_count": null,
      "metadata": {
        "id": "D-iwcO3kU7Fi",
        "colab": {
          "base_uri": "https://localhost:8080/"
        },
        "outputId": "2bccd621-1a51-4aa9-9c72-03676025c941"
      },
      "outputs": [
        {
          "output_type": "stream",
          "name": "stdout",
          "text": [
            "--- LSTM (Word Embeddings) Evaluation ---\n",
            "Accuracy: 0.6476880311965942\n",
            "\u001b[1m3121/3121\u001b[0m \u001b[32m━━━━━━━━━━━━━━━━━━━━\u001b[0m\u001b[37m\u001b[0m \u001b[1m8s\u001b[0m 3ms/step\n",
            "Precision: 0.5908141962421712\n",
            "Recall: 0.008024953920317596\n",
            "F1 Score: 0.015834825425246196\n",
            "Confusion Matrix:\n",
            "[[64388   196]\n",
            " [34982   283]]\n",
            "\n",
            "Classification Report:\n",
            "              precision    recall  f1-score   support\n",
            "\n",
            "           0       0.65      1.00      0.79     64584\n",
            "           1       0.59      0.01      0.02     35265\n",
            "\n",
            "    accuracy                           0.65     99849\n",
            "   macro avg       0.62      0.50      0.40     99849\n",
            "weighted avg       0.63      0.65      0.51     99849\n",
            "\n"
          ]
        }
      ],
      "source": [
        "# Evaluate LSTM Model\n",
        "lstm_loss, lstm_acc = lstm_model.evaluate(X_test_pad, y_test, verbose=0) # Evaluate loss & accuracy on test set\n",
        "print(\"--- LSTM (Word Embeddings) Evaluation ---\")\n",
        "print(\"Accuracy:\", lstm_acc)\n",
        "y_pred_lstm_prob = lstm_model.predict(X_test_pad)                        # Get predicted probabilities\n",
        "y_pred_lstm = (y_pred_lstm_prob > 0.5).astype(int)                       # Convert to binary predictions (threshold = 0.5)\n",
        "print(\"Precision:\", precision_score(y_test, y_pred_lstm))\n",
        "print(\"Recall:\", recall_score(y_test, y_pred_lstm))\n",
        "print(\"F1 Score:\", f1_score(y_test, y_pred_lstm))\n",
        "print(\"Confusion Matrix:\")\n",
        "print(confusion_matrix(y_test, y_pred_lstm))\n",
        "print(\"\\nClassification Report:\")\n",
        "print(classification_report(y_test, y_pred_lstm))"
      ]
    },
    {
      "cell_type": "markdown",
      "source": [
        "We evaluate the LSTM on the test set using both accuracy and classification metrics:\n",
        "\n",
        "- Use a threshold of `0.5' on predicted probabilities to classify each review.\n",
        "- Compute Precision, Recall, F1-score, and Confusion Matrix — just like with traditional models.\n",
        "\n",
        "Evaluating this way ensures a fair comparison between the LSTM model and the earlier models (Logistic Regression, Naive Bayes, etc.).\n",
        "Neural models typically outperform simpler ones when trained properly — but we need clear metrics to support that.\n"
      ],
      "metadata": {
        "id": "l4AYDGTykRO7"
      }
    }
  ],
  "metadata": {
    "accelerator": "GPU",
    "colab": {
      "gpuType": "T4",
      "provenance": [],
      "authorship_tag": "ABX9TyPQTbAq1nrUTXCHFOboFb/C",
      "include_colab_link": true
    },
    "kernelspec": {
      "display_name": "Python 3",
      "name": "python3"
    },
    "language_info": {
      "name": "python"
    }
  },
  "nbformat": 4,
  "nbformat_minor": 0
}